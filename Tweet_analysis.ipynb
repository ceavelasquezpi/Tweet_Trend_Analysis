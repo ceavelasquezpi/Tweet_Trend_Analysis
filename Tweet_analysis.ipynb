{
 "cells": [
  {
   "cell_type": "markdown",
   "metadata": {},
   "source": [
    "# Tweet Processing"
   ]
  },
  {
   "cell_type": "code",
   "execution_count": 36,
   "metadata": {},
   "outputs": [
    {
     "name": "stderr",
     "output_type": "stream",
     "text": [
      "[nltk_data] Downloading package stopwords to\n",
      "[nltk_data]     C:\\Users\\velasquezc\\AppData\\Roaming\\nltk_data...\n",
      "[nltk_data]   Package stopwords is already up-to-date!\n"
     ]
    }
   ],
   "source": [
    "# Packages needed\n",
    "import pandas as pd\n",
    "import numpy as np\n",
    "from collections import Counter\n",
    "import matplotlib.pyplot as plt\n",
    "\n",
    "import nltk\n",
    "nltk.download('stopwords')\n",
    "from nltk.corpus import stopwords\n",
    "from nltk.tokenize import word_tokenize \n",
    "from nltk.stem import SnowballStemmer\n",
    "from sklearn.feature_extraction.text import CountVectorizer\n",
    "import re\n",
    "\n",
    "from wordcloud import WordCloud"
   ]
  },
  {
   "cell_type": "code",
   "execution_count": 2,
   "metadata": {},
   "outputs": [
    {
     "name": "stderr",
     "output_type": "stream",
     "text": [
      "[nltk_data] Downloading package punkt to\n",
      "[nltk_data]     C:\\Users\\velasquezc\\AppData\\Roaming\\nltk_data...\n",
      "[nltk_data]   Package punkt is already up-to-date!\n"
     ]
    },
    {
     "data": {
      "text/plain": [
       "True"
      ]
     },
     "execution_count": 2,
     "metadata": {},
     "output_type": "execute_result"
    }
   ],
   "source": [
    "nltk.download('punkt')"
   ]
  },
  {
   "cell_type": "code",
   "execution_count": 3,
   "metadata": {},
   "outputs": [],
   "source": [
    "from transformers import pipeline"
   ]
  },
  {
   "cell_type": "code",
   "execution_count": 4,
   "metadata": {},
   "outputs": [],
   "source": [
    "STOPWORDS_ES=set(stopwords.words('spanish'))\n",
    "STEMMER_ES = SnowballStemmer('spanish')\n",
    "STOPWORDS_ENG=set(stopwords.words('english'))\n",
    "STEMMER_ENG = SnowballStemmer('english')\n",
    "STOPWORDS_DE=set(stopwords.words('german'))\n",
    "STEMMER_DE = SnowballStemmer('german')"
   ]
  },
  {
   "cell_type": "code",
   "execution_count": 10,
   "metadata": {},
   "outputs": [
    {
     "data": {
      "text/html": [
       "<div>\n",
       "<style scoped>\n",
       "    .dataframe tbody tr th:only-of-type {\n",
       "        vertical-align: middle;\n",
       "    }\n",
       "\n",
       "    .dataframe tbody tr th {\n",
       "        vertical-align: top;\n",
       "    }\n",
       "\n",
       "    .dataframe thead th {\n",
       "        text-align: right;\n",
       "    }\n",
       "</style>\n",
       "<table border=\"1\" class=\"dataframe\">\n",
       "  <thead>\n",
       "    <tr style=\"text-align: right;\">\n",
       "      <th></th>\n",
       "      <th>trend_names</th>\n",
       "    </tr>\n",
       "  </thead>\n",
       "  <tbody>\n",
       "    <tr>\n",
       "      <th>0</th>\n",
       "      <td>Gustavo Petro</td>\n",
       "    </tr>\n",
       "    <tr>\n",
       "      <th>1</th>\n",
       "      <td>Francia Marquez</td>\n",
       "    </tr>\n",
       "    <tr>\n",
       "      <th>2</th>\n",
       "      <td>Maria Fernanda Cabal</td>\n",
       "    </tr>\n",
       "    <tr>\n",
       "      <th>3</th>\n",
       "      <td>Medelín</td>\n",
       "    </tr>\n",
       "    <tr>\n",
       "      <th>4</th>\n",
       "      <td>Bogotá</td>\n",
       "    </tr>\n",
       "  </tbody>\n",
       "</table>\n",
       "</div>"
      ],
      "text/plain": [
       "            trend_names\n",
       "0         Gustavo Petro\n",
       "1       Francia Marquez\n",
       "2  Maria Fernanda Cabal\n",
       "3               Medelín\n",
       "4                Bogotá"
      ]
     },
     "execution_count": 10,
     "metadata": {},
     "output_type": "execute_result"
    }
   ],
   "source": [
    "# I wanted at the beginning to also retrieve tweets of \"Hard-Coded\" trends, like the names of some important colombian polititians.\n",
    "# These hard-coded ones are in the \"trend_names_base_col.xlsx\". Therefore, later when I count the frequency of trends, I remove the ones in this file from the list\n",
    "stored_trend_names = pd.read_excel('trend_names_base_col.xlsx')\n",
    "stored_trend_names = stored_trend_names.drop(columns=['Unnamed: 0'])\n",
    "stored_trend_names.head()"
   ]
  },
  {
   "cell_type": "code",
   "execution_count": 11,
   "metadata": {},
   "outputs": [
    {
     "data": {
      "text/plain": [
       "array(['Gustavo Petro', 'Francia Marquez', 'Maria Fernanda Cabal',\n",
       "       'Medelín', 'Bogotá', 'Cartagena', 'Cali', '#LaCatedralPetrista',\n",
       "       '#FiscalEnApuros', '#LosDanieles', '#TodosSomosPetro',\n",
       "       '#CosasSurrealistasDeColombia', 'Cartagena', 'Dayro', 'Ituango',\n",
       "       'métricas', 'WE WANNA FOCUS ON BTS', 'OPAIN', 'Bournemouth',\n",
       "       'Catatumbo'], dtype=object)"
      ]
     },
     "execution_count": 11,
     "metadata": {},
     "output_type": "execute_result"
    }
   ],
   "source": [
    "fixed_colombian_trends = stored_trend_names.trend_names.values\n",
    "fixed_colombian_trends"
   ]
  },
  {
   "cell_type": "code",
   "execution_count": null,
   "metadata": {},
   "outputs": [],
   "source": [
    "### At the begining of the project I was piling the trends onto each other on a single file.\n",
    "# Then, when I decided that I wanted a file for each date of trend retrieval, I left the top ones of the first consultation in a separate file. \n",
    "# I retrieve them at this point because the trends each day are piled on top of this one, so later on I remove them because they are hard coded"
   ]
  },
  {
   "cell_type": "markdown",
   "metadata": {},
   "source": [
    "## Duration of trends and trends lasting several days"
   ]
  },
  {
   "cell_type": "markdown",
   "metadata": {},
   "source": [
    "### Getting the trend list by country"
   ]
  },
  {
   "cell_type": "code",
   "execution_count": 13,
   "metadata": {},
   "outputs": [],
   "source": [
    "import glob, os\n",
    "colombia_files = []\n",
    "germany_files = []\n",
    "for file in os.listdir('Trends/'):\n",
    "    split = file.split('_')\n",
    "    if split[0] == 'GermanyTrends':\n",
    "        germany_files.append(file)\n",
    "    elif split[0] == 'ColombiaTrends':\n",
    "        colombia_files.append(file)"
   ]
  },
  {
   "cell_type": "code",
   "execution_count": 14,
   "metadata": {},
   "outputs": [
    {
     "data": {
      "text/html": [
       "<div>\n",
       "<style scoped>\n",
       "    .dataframe tbody tr th:only-of-type {\n",
       "        vertical-align: middle;\n",
       "    }\n",
       "\n",
       "    .dataframe tbody tr th {\n",
       "        vertical-align: top;\n",
       "    }\n",
       "\n",
       "    .dataframe thead th {\n",
       "        text-align: right;\n",
       "    }\n",
       "</style>\n",
       "<table border=\"1\" class=\"dataframe\">\n",
       "  <thead>\n",
       "    <tr style=\"text-align: right;\">\n",
       "      <th></th>\n",
       "      <th>trend</th>\n",
       "      <th>count</th>\n",
       "    </tr>\n",
       "  </thead>\n",
       "  <tbody>\n",
       "    <tr>\n",
       "      <th>88</th>\n",
       "      <td>Cuadrado</td>\n",
       "      <td>4</td>\n",
       "    </tr>\n",
       "    <tr>\n",
       "      <th>100</th>\n",
       "      <td>Falcao</td>\n",
       "      <td>4</td>\n",
       "    </tr>\n",
       "    <tr>\n",
       "      <th>14</th>\n",
       "      <td>#HarryAlCampin</td>\n",
       "      <td>4</td>\n",
       "    </tr>\n",
       "    <tr>\n",
       "      <th>105</th>\n",
       "      <td>Haaland</td>\n",
       "      <td>3</td>\n",
       "    </tr>\n",
       "    <tr>\n",
       "      <th>187</th>\n",
       "      <td>sábados felices</td>\n",
       "      <td>3</td>\n",
       "    </tr>\n",
       "    <tr>\n",
       "      <th>...</th>\n",
       "      <td>...</td>\n",
       "      <td>...</td>\n",
       "    </tr>\n",
       "    <tr>\n",
       "      <th>68</th>\n",
       "      <td>Barranquilla</td>\n",
       "      <td>1</td>\n",
       "    </tr>\n",
       "    <tr>\n",
       "      <th>69</th>\n",
       "      <td>Barrios</td>\n",
       "      <td>1</td>\n",
       "    </tr>\n",
       "    <tr>\n",
       "      <th>70</th>\n",
       "      <td>Bayern</td>\n",
       "      <td>1</td>\n",
       "    </tr>\n",
       "    <tr>\n",
       "      <th>72</th>\n",
       "      <td>Borré</td>\n",
       "      <td>1</td>\n",
       "    </tr>\n",
       "    <tr>\n",
       "      <th>190</th>\n",
       "      <td>vicky</td>\n",
       "      <td>1</td>\n",
       "    </tr>\n",
       "  </tbody>\n",
       "</table>\n",
       "<p>191 rows × 2 columns</p>\n",
       "</div>"
      ],
      "text/plain": [
       "               trend  count\n",
       "88          Cuadrado      4\n",
       "100           Falcao      4\n",
       "14    #HarryAlCampin      4\n",
       "105          Haaland      3\n",
       "187  sábados felices      3\n",
       "..               ...    ...\n",
       "68      Barranquilla      1\n",
       "69           Barrios      1\n",
       "70            Bayern      1\n",
       "72             Borré      1\n",
       "190            vicky      1\n",
       "\n",
       "[191 rows x 2 columns]"
      ]
     },
     "execution_count": 14,
     "metadata": {},
     "output_type": "execute_result"
    }
   ],
   "source": [
    "trends_colombia = {} # trends are to be stored in a dictionary where the key is the date, so as to create a timeline of the trends\n",
    "for file in colombia_files:\n",
    "    split = file.split('_') # Filename has format ColombiaTrends_date_time\n",
    "    trends_file_df = pd.read_excel('./Trends/'+file)\n",
    "    trends_colombia[split[1]]=trends_file_df.columns[1:] # Key is date of retrieval of the tweets. Columns from 1 are all the trends\n",
    "\n",
    "trends_colombia_all = [] \n",
    "for trend_date, trend_list in trends_colombia.items():\n",
    "    trends_colombia_all.append(trend_list)\n",
    "\n",
    "#This is a list of all trends in Colombia packed together (not in a timeline). This list will be used to iterate over the trends and count their frequencies below.\n",
    "trends_colombia_all_flat = [item for sublist in trends_colombia_all for item in sublist] \n",
    "#trends_colombia_all_flat\n",
    "\n",
    "# Frequency counting of the trends\n",
    "count_trend_colombia = {}\n",
    "for trend in np.unique(trends_colombia_all_flat):\n",
    "    if trend not in fixed_colombian_trends:\n",
    "        count_trend_colombia[trend] = trends_colombia_all_flat.count(trend)\n",
    "\n",
    "freq_trends_colombia = pd.DataFrame({'trend':count_trend_colombia.keys(), 'count':count_trend_colombia.values()}).sort_values('count', ascending=False)\n",
    "freq_trends_colombia"
   ]
  },
  {
   "cell_type": "code",
   "execution_count": 15,
   "metadata": {},
   "outputs": [
    {
     "data": {
      "text/html": [
       "<div>\n",
       "<style scoped>\n",
       "    .dataframe tbody tr th:only-of-type {\n",
       "        vertical-align: middle;\n",
       "    }\n",
       "\n",
       "    .dataframe tbody tr th {\n",
       "        vertical-align: top;\n",
       "    }\n",
       "\n",
       "    .dataframe thead th {\n",
       "        text-align: right;\n",
       "    }\n",
       "</style>\n",
       "<table border=\"1\" class=\"dataframe\">\n",
       "  <thead>\n",
       "    <tr style=\"text-align: right;\">\n",
       "      <th></th>\n",
       "      <th>trend</th>\n",
       "      <th>count</th>\n",
       "    </tr>\n",
       "  </thead>\n",
       "  <tbody>\n",
       "    <tr>\n",
       "      <th>178</th>\n",
       "      <td>Guten Morgen ihr Lieben</td>\n",
       "      <td>8</td>\n",
       "    </tr>\n",
       "    <tr>\n",
       "      <th>219</th>\n",
       "      <td>Kopftuch</td>\n",
       "      <td>7</td>\n",
       "    </tr>\n",
       "    <tr>\n",
       "      <th>184</th>\n",
       "      <td>Heizung</td>\n",
       "      <td>6</td>\n",
       "    </tr>\n",
       "    <tr>\n",
       "      <th>300</th>\n",
       "      <td>Referendum</td>\n",
       "      <td>5</td>\n",
       "    </tr>\n",
       "    <tr>\n",
       "      <th>356</th>\n",
       "      <td>Start in den Tag</td>\n",
       "      <td>5</td>\n",
       "    </tr>\n",
       "    <tr>\n",
       "      <th>...</th>\n",
       "      <td>...</td>\n",
       "      <td>...</td>\n",
       "    </tr>\n",
       "    <tr>\n",
       "      <th>249</th>\n",
       "      <td>Martina</td>\n",
       "      <td>1</td>\n",
       "    </tr>\n",
       "    <tr>\n",
       "      <th>83</th>\n",
       "      <td>Asteroiden</td>\n",
       "      <td>1</td>\n",
       "    </tr>\n",
       "    <tr>\n",
       "      <th>247</th>\n",
       "      <td>Marlies</td>\n",
       "      <td>1</td>\n",
       "    </tr>\n",
       "    <tr>\n",
       "      <th>246</th>\n",
       "      <td>Markus</td>\n",
       "      <td>1</td>\n",
       "    </tr>\n",
       "    <tr>\n",
       "      <th>0</th>\n",
       "      <td>\"Massengrab\"</td>\n",
       "      <td>1</td>\n",
       "    </tr>\n",
       "  </tbody>\n",
       "</table>\n",
       "<p>487 rows × 2 columns</p>\n",
       "</div>"
      ],
      "text/plain": [
       "                       trend  count\n",
       "178  Guten Morgen ihr Lieben      8\n",
       "219                 Kopftuch      7\n",
       "184                  Heizung      6\n",
       "300               Referendum      5\n",
       "356         Start in den Tag      5\n",
       "..                       ...    ...\n",
       "249                  Martina      1\n",
       "83                Asteroiden      1\n",
       "247                  Marlies      1\n",
       "246                   Markus      1\n",
       "0               \"Massengrab\"      1\n",
       "\n",
       "[487 rows x 2 columns]"
      ]
     },
     "execution_count": 15,
     "metadata": {},
     "output_type": "execute_result"
    }
   ],
   "source": [
    "trends_germany = {} # trends are to be stored in a dictionary where the key is the date, so as to create a timeline of the trends\n",
    "for file in germany_files:\n",
    "    split = file.split('_') # Filename has format GermanyTrends_date_time\n",
    "    trends_file_df = pd.read_excel('./Trends/'+file)\n",
    "    trends_germany[split[1]] = trends_file_df.columns[1:] # Key is date of retrieval of the tweets. Columns from 1 are all the trends\n",
    "\n",
    "#This is a list of all trends in Germany packed together (not in a timeline). This list will be used to iterate over the trends and count their frequencies below.\n",
    "trends_germany_all = []\n",
    "for trend_date, trend_list in trends_germany.items():\n",
    "    trends_germany_all.append(trend_list)\n",
    "\n",
    "trends_germany_all_flat = [item for sublist in trends_germany_all for item in sublist]\n",
    "#trends_germany_all_flat\n",
    "\n",
    "# Frequency counting of the trends\n",
    "count_trend_germany = {}\n",
    "for trend in np.unique(trends_germany_all_flat):\n",
    "    count_trend_germany[trend] = trends_germany_all_flat.count(trend)\n",
    "\n",
    "freq_trends_germany = pd.DataFrame({'trend':count_trend_germany.keys(), 'count':count_trend_germany.values()}).sort_values('count', ascending=False)\n",
    "freq_trends_germany"
   ]
  },
  {
   "cell_type": "code",
   "execution_count": null,
   "metadata": {},
   "outputs": [],
   "source": []
  },
  {
   "cell_type": "markdown",
   "metadata": {},
   "source": [
    "## Trends in common Colombia - Germany"
   ]
  },
  {
   "cell_type": "code",
   "execution_count": 18,
   "metadata": {},
   "outputs": [],
   "source": [
    "all_trends_colombia = list(freq_trends_colombia.trend)\n",
    "all_trends_germany = list(freq_trends_germany.trend)"
   ]
  },
  {
   "cell_type": "code",
   "execution_count": 19,
   "metadata": {},
   "outputs": [
    {
     "data": {
      "text/plain": [
       "{'Biden',\n",
       " 'GTA 6',\n",
       " 'Haaland',\n",
       " 'Maguire',\n",
       " 'Putin',\n",
       " 'Rihanna',\n",
       " 'iOS 16',\n",
       " 'jungkook'}"
      ]
     },
     "execution_count": 19,
     "metadata": {},
     "output_type": "execute_result"
    }
   ],
   "source": [
    "# To avoid duplicates, both lists are converted into sets and their intersection is taken to see what trends are shared by both countries\n",
    "set_all_trends_colombia = set(all_trends_colombia)\n",
    "set_all_trends_germany = set(all_trends_germany)\n",
    "intersection = set_all_trends_colombia.intersection(set_all_trends_germany)\n",
    "intersection"
   ]
  },
  {
   "cell_type": "code",
   "execution_count": null,
   "metadata": {},
   "outputs": [],
   "source": []
  },
  {
   "cell_type": "markdown",
   "metadata": {},
   "source": [
    "## Text analysis of the relevant trends"
   ]
  },
  {
   "cell_type": "markdown",
   "metadata": {},
   "source": [
    "### In Colombia"
   ]
  },
  {
   "cell_type": "code",
   "execution_count": 21,
   "metadata": {},
   "outputs": [
    {
     "name": "stdout",
     "output_type": "stream",
     "text": [
      "(48, 2)\n"
     ]
    },
    {
     "data": {
      "text/html": [
       "<div>\n",
       "<style scoped>\n",
       "    .dataframe tbody tr th:only-of-type {\n",
       "        vertical-align: middle;\n",
       "    }\n",
       "\n",
       "    .dataframe tbody tr th {\n",
       "        vertical-align: top;\n",
       "    }\n",
       "\n",
       "    .dataframe thead th {\n",
       "        text-align: right;\n",
       "    }\n",
       "</style>\n",
       "<table border=\"1\" class=\"dataframe\">\n",
       "  <thead>\n",
       "    <tr style=\"text-align: right;\">\n",
       "      <th></th>\n",
       "      <th>trend</th>\n",
       "      <th>count</th>\n",
       "    </tr>\n",
       "  </thead>\n",
       "  <tbody>\n",
       "    <tr>\n",
       "      <th>88</th>\n",
       "      <td>Cuadrado</td>\n",
       "      <td>4</td>\n",
       "    </tr>\n",
       "    <tr>\n",
       "      <th>100</th>\n",
       "      <td>Falcao</td>\n",
       "      <td>4</td>\n",
       "    </tr>\n",
       "    <tr>\n",
       "      <th>14</th>\n",
       "      <td>#HarryAlCampin</td>\n",
       "      <td>4</td>\n",
       "    </tr>\n",
       "    <tr>\n",
       "      <th>105</th>\n",
       "      <td>Haaland</td>\n",
       "      <td>3</td>\n",
       "    </tr>\n",
       "    <tr>\n",
       "      <th>187</th>\n",
       "      <td>sábados felices</td>\n",
       "      <td>3</td>\n",
       "    </tr>\n",
       "  </tbody>\n",
       "</table>\n",
       "</div>"
      ],
      "text/plain": [
       "               trend  count\n",
       "88          Cuadrado      4\n",
       "100           Falcao      4\n",
       "14    #HarryAlCampin      4\n",
       "105          Haaland      3\n",
       "187  sábados felices      3"
      ]
     },
     "execution_count": 21,
     "metadata": {},
     "output_type": "execute_result"
    }
   ],
   "source": [
    "#Relevant trends are those that appear twice of more i.e. not only in one single day across the timeline\n",
    "freq_trends_colombia.head()\n",
    "relevant_trends_colombia = freq_trends_colombia.loc[freq_trends_colombia['count']>1]\n",
    "print(relevant_trends_colombia.shape)\n",
    "relevant_trends_colombia.head()"
   ]
  },
  {
   "cell_type": "code",
   "execution_count": 22,
   "metadata": {},
   "outputs": [],
   "source": [
    "#relevant_trends_colombia.to_excel('relevant_trends_colombia.xlsx')"
   ]
  },
  {
   "cell_type": "code",
   "execution_count": 23,
   "metadata": {},
   "outputs": [
    {
     "data": {
      "text/plain": [
       "array(['Cuadrado', 'Falcao', '#HarryAlCampin', 'Haaland',\n",
       "       'sábados felices', 'Lorenzo', '#TodosALaCalle26S', 'Luis Díaz',\n",
       "       'Biden', 'Crystal Palace', 'Amazonas', 'Toto Vega', '#UnAbusoEs',\n",
       "       'Morat', 'Colpensiones', 'Coldplay', 'Patriotas',\n",
       "       'Sergio Arboleda', '#YoNoParoYoProduzco', 'Chris Martin',\n",
       "       'Santa Fe', 'Carrascal', 'Mayer', 'Roger Federer', 'Millonarios',\n",
       "       '#PetroEnLaONU', 'Liverpool', '#OrgulloPetrista', 'Elena',\n",
       "       'BTS GLOBAL DOMINATION', 'Guatemala', 'Onofre', 'ospina', 'Italia',\n",
       "       'Iván Mordisco', 'mantilla', 'Ospina', 'James Rodríguez',\n",
       "       '#HouseOfTheDragon', 'El Tarra', 'Junior', '#LeandroDiaz',\n",
       "       'Barboza', 'Naciones Unidas', 'Dorlan', 'Discurso',\n",
       "       '#NoHayFuturoSin', 'Rodolfo'], dtype=object)"
      ]
     },
     "execution_count": 23,
     "metadata": {},
     "output_type": "execute_result"
    }
   ],
   "source": [
    "relevant_trends_colombia.trend.values "
   ]
  },
  {
   "cell_type": "markdown",
   "metadata": {},
   "source": [
    "### Content of the relevant trends in Colombia"
   ]
  },
  {
   "cell_type": "code",
   "execution_count": 25,
   "metadata": {},
   "outputs": [],
   "source": [
    "trend_sentences = {} #Dictionary where the keys will be the relevant trends and the values will be the tweets corresponding to that trend\n",
    "trend_words = {} #Dictionary where the keys will be the relevant trends and the values will be the tweets corresponding to that trend\n",
    "trend_sentences_flat = {} #Dictionary where the keys will be the relevant trends and the values will be the tweets corresponding to that trend, stored in a flat list\n",
    "trend_words_flat = {} #Dictionary where the keys will be the relevant trends and the values will be the tweets corresponding to that trend, stored in a flat list\n",
    "\n",
    "for trend in relevant_trends_colombia.trend.values:\n",
    "    trend_sentences[trend] = []\n",
    "    trend_words[trend] = []\n",
    "\n",
    "for file in colombia_files:\n",
    "    trends_file_df = pd.read_excel('./Trends/'+file)\n",
    "    trends_in_file = trends_file_df.columns[1:] # Columns from 1 are all the trends\n",
    "    for trend in trends_in_file:\n",
    "        if trend in relevant_trends_colombia.trend.values:\n",
    "            sentences = trends_file_df.iloc[0][trend].split(\"\\', \\'\") # In each file, full tweets text are stored in row 1\n",
    "            words = trends_file_df.iloc[3][trend].split(\"\\', \\'\") # In each file, the lists of words are stored in row 4\n",
    "            trend_sentences[trend].append(sentences)\n",
    "            trend_words[trend].append(words)\n",
    "\n",
    "for trend in trend_sentences.keys():\n",
    "    trend_sentences_flat[trend] = [item for sublist in trend_sentences[trend] for item in sublist] # Each element of the list is a tweet text corresponding to the trend in the Key of the Dictionary\n",
    "    trend_words_flat[trend] = [item for sublist in trend_words[trend] for item in sublist] # Each element of the list is a word corresponding to the trend in the Key of the Dictionary"
   ]
  },
  {
   "cell_type": "code",
   "execution_count": 24,
   "metadata": {},
   "outputs": [],
   "source": [
    "#trend_sentences\n",
    "#trend_words"
   ]
  },
  {
   "cell_type": "code",
   "execution_count": 25,
   "metadata": {},
   "outputs": [
    {
     "data": {
      "text/plain": [
       "dict_keys(['#HarryAlCampin', 'sábados felices', 'Falcao', 'Haaland', 'Liverpool', 'Barboza', 'Chris Martin', 'Coldplay', 'Colpensiones', 'Crystal Palace', 'Discurso', 'Dorlan', 'El Tarra', 'James Rodríguez', 'Lorenzo', 'Amazonas', 'Luis Díaz', 'Mayer', 'Naciones Unidas', 'Patriotas', 'Rodolfo', 'Roger Federer', 'Santa Fe', 'Sergio Arboleda', 'mantilla', 'ospina', 'BTS GLOBAL DOMINATION', 'Elena', '#LeandroDiaz', '#PetroEnLaONU', '#OrgulloPetrista', '#NoHayFuturoSin', '#UnAbusoEs'])"
      ]
     },
     "execution_count": 25,
     "metadata": {},
     "output_type": "execute_result"
    }
   ],
   "source": [
    "trend_sentences.keys()"
   ]
  },
  {
   "cell_type": "code",
   "execution_count": 40,
   "metadata": {},
   "outputs": [],
   "source": [
    "#NLP Preprocessing:\n",
    "# Diacritics and special characters are removed:\n",
    "REPLACE_BY_a = re.compile('[á, ä]') \n",
    "REPLACE_BY_e = re.compile('[é]')\n",
    "REPLACE_BY_i = re.compile('[í]')\n",
    "REPLACE_BY_o = re.compile('[ó, ö]')\n",
    "REPLACE_BY_u = re.compile('[ú, ü]')\n",
    "REPLACE_BY_SPACE_RE = re.compile('[/(){}\\[\\]\\|@,;]') #These characters will be replaced by a space\n",
    "BAD_SYMBOLS_RE = re.compile('[^0-9a-z ñ+_]') #These characters will be removed\n",
    "STOPWORDS_ES = set(stopwords.words('spanish')) #Spanish stopwords are also removed\n",
    "## Some commonly observed stopwords are also removed\n",
    "STOPWORDS_ES.add('http')\n",
    "STOPWORDS_ES.add('https')\n",
    "STOPWORDS_ES.add('tco')\n",
    "STEMMER_ES = SnowballStemmer('spanish')\n",
    "\n",
    "\n",
    "def text_prepare(text, stem=False):\n",
    "    \"\"\"\n",
    "        text: a string\n",
    "        return: modified initial string\n",
    "    \"\"\"\n",
    "    text = text.lower() # lowercase text\n",
    "    text = REPLACE_BY_SPACE_RE.sub(' ', text) # replace REPLACE_BY_SPACE_RE symbols by space in text\n",
    "    #Then, diacritics are changed by there unaccented versions\n",
    "    text = REPLACE_BY_a.sub('a', text)\n",
    "    text = REPLACE_BY_e.sub('e', text)\n",
    "    text = REPLACE_BY_i.sub('i', text)\n",
    "    text = REPLACE_BY_o.sub('o', text)\n",
    "    text = REPLACE_BY_u.sub('u', text)\n",
    "    text = BAD_SYMBOLS_RE.sub('', text) # delete symbols which are in BAD_SYMBOLS_RE from text\n",
    "    \n",
    "    tokens = word_tokenize(text) #Each sentence is split into words with the tokenizer\n",
    "    filtered_sentence = [w for w in tokens if not w in STOPWORDS_ES] \n",
    "\n",
    "    corrected_sentence = filtered_sentence\n",
    "    \n",
    "    if stem==True: #A stemmer was included in case needed for a model (with the option of not stemming so as to keep the words complete and with more sense to a human reader)\n",
    "        stemmed_sentence=[STEMMER_ES.stem(word) for word in corrected_sentence]\n",
    "        text = ' '.join([word for word in stemmed_sentence]) #Join the preprocessed words back into a sentence\n",
    "    else:\n",
    "        text = ' '.join([word for word in corrected_sentence]) \n",
    "    \n",
    "    #Finally strip spaces and \"rt \" which is common on twitter as a \"retweet\"\n",
    "    text = text.strip()\n",
    "    text = text.lstrip('rt ')\n",
    "    \n",
    "    return text"
   ]
  },
  {
   "cell_type": "code",
   "execution_count": 34,
   "metadata": {},
   "outputs": [],
   "source": [
    "# For the ngrams and word clouds, all the preprocessed sentences and words are packed together in flat lists, to pass them to the models.\n",
    "#The flat lists are done by each trend using the trend's name as key in a dictionary.\n",
    "trend_sentences_processed = {}\n",
    "trend_words_processed = {}\n",
    "for trend in trend_sentences.keys():\n",
    "    text_preprocessed = [text_prepare(x) for x in trend_sentences_flat[trend]]\n",
    "    trend_sentences_processed[trend] = text_preprocessed\n",
    "\n",
    "for trend in trend_sentences.keys():\n",
    "    word_tokens = [word_tokenize(trend_sentences_processed[trend][i]) for i in range(len(trend_sentences_processed[trend]))]\n",
    "    word_tokens_flat = [item for sublist in word_tokens for item in sublist]\n",
    "    trend_words_processed[trend] = [w for w in word_tokens_flat if w.isalpha()]"
   ]
  },
  {
   "cell_type": "markdown",
   "metadata": {},
   "source": [
    "### N-grams"
   ]
  },
  {
   "cell_type": "code",
   "execution_count": 37,
   "metadata": {},
   "outputs": [],
   "source": [
    "def get_top_n_words(corpus, r, stopwords, n=None):\n",
    "    #This function takes a list of sentences and produces ngrams of size r out of that list\n",
    "    vec = CountVectorizer(ngram_range=(r, r), stop_words = stopwords).fit(corpus)\n",
    "    bag_of_words = vec.transform(corpus)\n",
    "    sum_words = bag_of_words.sum(axis=0) \n",
    "    words_freq = [(word, sum_words[0, idx]) for word, idx in vec.vocabulary_.items()]\n",
    "    words_freq =sorted(words_freq, key = lambda x: x[1], reverse=True)\n",
    "    ngrams = pd.DataFrame(words_freq[:n], columns = ['Gram' , 'count'])\n",
    "    \n",
    "    return ngrams\n",
    "\n",
    "\n",
    "def get_n_grams_df(corpus, n, stopwords):\n",
    "    #This function calls \"get_top_n_words\" to produce unigrams, bigrams and trigrams out of the a list of sentences (corpus), \n",
    "    # with a specific list of stopwords to be excluded. n is the number of ngrams to be generated. \n",
    "    unigrams = get_top_n_words(corpus, 1, stopwords, n)\n",
    "    bigrams = get_top_n_words(corpus, 2, stopwords, n)\n",
    "    trigrams = get_top_n_words(corpus, 3, stopwords, n)\n",
    "    \n",
    "    #The result is packed into a dictionary\n",
    "    n_grams = {'unigrams':unigrams.rename(columns={'Gram':'Unigram','count':'Unigram_count'}), \n",
    "                'bigrams':bigrams.rename(columns={'Gram':'Bigram','count':'Bigram_count'}),\n",
    "                'trigrams':trigrams.rename(columns={'Gram':'Trigram','count':'Trigram_count'})}\n",
    "    \n",
    "    return n_grams\n",
    "\n",
    "\n",
    "n_gram_dfs = {}\n",
    "for trend in trend_sentences.keys():\n",
    "    n_grams = get_n_grams_df(trend_sentences_processed[trend], 30, STOPWORDS_ES) #calling the above function to retrieve the ngrams for each trend\n",
    "    n_gram_df = pd.concat([n_grams['unigrams'], n_grams['bigrams'], n_grams['trigrams']], axis=1) #putting the data together in a dataframe\n",
    "    n_gram_dfs[trend]=n_gram_df\n",
    "    #n_gram_df.head()"
   ]
  },
  {
   "cell_type": "code",
   "execution_count": 112,
   "metadata": {},
   "outputs": [
    {
     "data": {
      "text/html": [
       "<div>\n",
       "<style scoped>\n",
       "    .dataframe tbody tr th:only-of-type {\n",
       "        vertical-align: middle;\n",
       "    }\n",
       "\n",
       "    .dataframe tbody tr th {\n",
       "        vertical-align: top;\n",
       "    }\n",
       "\n",
       "    .dataframe thead th {\n",
       "        text-align: right;\n",
       "    }\n",
       "</style>\n",
       "<table border=\"1\" class=\"dataframe\">\n",
       "  <thead>\n",
       "    <tr style=\"text-align: right;\">\n",
       "      <th></th>\n",
       "      <th>Unigram</th>\n",
       "      <th>Unigram_count</th>\n",
       "      <th>Bigram</th>\n",
       "      <th>Bigram_count</th>\n",
       "      <th>Trigram</th>\n",
       "      <th>Trigram_count</th>\n",
       "    </tr>\n",
       "  </thead>\n",
       "  <tbody>\n",
       "    <tr>\n",
       "      <th>0</th>\n",
       "      <td>discurso</td>\n",
       "      <td>404</td>\n",
       "      <td>discurso petro</td>\n",
       "      <td>52</td>\n",
       "      <td>discurso petro onu</td>\n",
       "      <td>34</td>\n",
       "    </tr>\n",
       "    <tr>\n",
       "      <th>1</th>\n",
       "      <td>onu</td>\n",
       "      <td>167</td>\n",
       "      <td>discurso presidente</td>\n",
       "      <td>50</td>\n",
       "      <td>asamblea general onu</td>\n",
       "      <td>20</td>\n",
       "    </tr>\n",
       "    <tr>\n",
       "      <th>2</th>\n",
       "      <td>petro</td>\n",
       "      <td>133</td>\n",
       "      <td>petro onu</td>\n",
       "      <td>48</td>\n",
       "      <td>petrogustavo discurso completo</td>\n",
       "      <td>15</td>\n",
       "    </tr>\n",
       "    <tr>\n",
       "      <th>3</th>\n",
       "      <td>presidente</td>\n",
       "      <td>107</td>\n",
       "      <td>discurso onu</td>\n",
       "      <td>38</td>\n",
       "      <td>discurso completo naciones</td>\n",
       "      <td>14</td>\n",
       "    </tr>\n",
       "    <tr>\n",
       "      <th>4</th>\n",
       "      <td>petrogustavo</td>\n",
       "      <td>95</td>\n",
       "      <td>asamblea general</td>\n",
       "      <td>30</td>\n",
       "      <td>completo naciones unidasnnhttps</td>\n",
       "      <td>14</td>\n",
       "    </tr>\n",
       "  </tbody>\n",
       "</table>\n",
       "</div>"
      ],
      "text/plain": [
       "        Unigram  Unigram_count               Bigram  Bigram_count  \\\n",
       "0      discurso            404       discurso petro            52   \n",
       "1           onu            167  discurso presidente            50   \n",
       "2         petro            133            petro onu            48   \n",
       "3    presidente            107         discurso onu            38   \n",
       "4  petrogustavo             95     asamblea general            30   \n",
       "\n",
       "                           Trigram  Trigram_count  \n",
       "0               discurso petro onu             34  \n",
       "1             asamblea general onu             20  \n",
       "2   petrogustavo discurso completo             15  \n",
       "3       discurso completo naciones             14  \n",
       "4  completo naciones unidasnnhttps             14  "
      ]
     },
     "execution_count": 112,
     "metadata": {},
     "output_type": "execute_result"
    }
   ],
   "source": [
    "n_gram_dfs['Discurso'].head()"
   ]
  },
  {
   "cell_type": "code",
   "execution_count": 38,
   "metadata": {},
   "outputs": [],
   "source": [
    "# Word clouds can also be generated, showing the relative frequency of words appearing for each trend in a visual way\n",
    "# With the size of the word in the word cloud representing it's frequeny relative to the toal amount of words in the corpus\n",
    "word_clouds = {}\n",
    "for trend in trend_sentences.keys():\n",
    "    corpus = ' '.join(trend_words_processed[trend])\n",
    "    #Instantiate wordcloud object and use method to feed it our corpus\n",
    "    word_clouds[trend] = WordCloud(collocations=False).generate_from_text(corpus)"
   ]
  },
  {
   "cell_type": "code",
   "execution_count": 39,
   "metadata": {},
   "outputs": [
    {
     "data": {
      "image/png": "[encoded data removed]",
      "text/plain": [
       "<Figure size 432x288 with 1 Axes>"
      ]
     },
     "metadata": {
      "needs_background": "light"
     },
     "output_type": "display_data"
    }
   ],
   "source": [
    "#displaying the word cloud\n",
    "plt.imshow(word_clouds['#PetroEnLaONU'])\n",
    "plt.axis('off')\n",
    "plt.show()"
   ]
  },
  {
   "cell_type": "code",
   "execution_count": null,
   "metadata": {},
   "outputs": [],
   "source": []
  },
  {
   "cell_type": "markdown",
   "metadata": {},
   "source": [
    "### Sentiment analysis"
   ]
  },
  {
   "cell_type": "code",
   "execution_count": null,
   "metadata": {},
   "outputs": [],
   "source": [
    "#The sentiment analysis is used through the package \"Transformers\", which uses pretrained NLP models for several tasks. There are models available for several tasks and languages\n",
    "# One model is loaded for the spanish tweets (finiteautomata/beto-sentiment-analysis) and another for the english and german tweets (nlptown/bert-base-multilingual-uncased-sentiment)\n",
    "# The spanish model outputs three classes \"POS\", \"NEU\" and \"NEG\", whereas the multilingual one outputs 1 star up to 5 stars. The star output is translated into \"POS\", \"NEU\" and \"NEG\"\n",
    "# to maintain the consistency of the output and results."
   ]
  },
  {
   "cell_type": "code",
   "execution_count": 50,
   "metadata": {},
   "outputs": [
    {
     "name": "stderr",
     "output_type": "stream",
     "text": [
      "Downloading: 100%|██████████| 440M/440M [00:24<00:00, 17.7MB/s] \n",
      "Downloading: 100%|██████████| 528/528 [00:00<00:00, 527kB/s]\n",
      "Downloading: 100%|██████████| 242k/242k [00:00<00:00, 562kB/s]  \n",
      "Downloading: 100%|██████████| 481k/481k [00:00<00:00, 1.10MB/s]\n",
      "Downloading: 100%|██████████| 67.0/67.0 [00:00<00:00, 67.1kB/s]\n",
      "Downloading: 100%|██████████| 112/112 [00:00<00:00, 104kB/s]\n"
     ]
    }
   ],
   "source": [
    "spa_sentiment_classifier = pipeline('sentiment-analysis',\n",
    "                           tokenizer = \"finiteautomata/beto-sentiment-analysis\",\n",
    "                           model = \"finiteautomata/beto-sentiment-analysis\")"
   ]
  },
  {
   "cell_type": "code",
   "execution_count": 51,
   "metadata": {},
   "outputs": [
    {
     "name": "stdout",
     "output_type": "stream",
     "text": [
      "#HarryAlCampin\n",
      "sábados felices\n",
      "Falcao\n",
      "Haaland\n",
      "Liverpool\n",
      "Barboza\n",
      "Chris Martin\n",
      "Coldplay\n",
      "Colpensiones\n",
      "Crystal Palace\n",
      "Discurso\n",
      "Dorlan\n",
      "El Tarra\n",
      "James Rodríguez\n",
      "Lorenzo\n",
      "Amazonas\n",
      "Luis Díaz\n",
      "Mayer\n",
      "Naciones Unidas\n",
      "Patriotas\n",
      "Rodolfo\n",
      "Roger Federer\n",
      "Santa Fe\n",
      "Sergio Arboleda\n",
      "mantilla\n",
      "ospina\n",
      "BTS GLOBAL DOMINATION\n",
      "Elena\n",
      "#LeandroDiaz\n",
      "#PetroEnLaONU\n",
      "#OrgulloPetrista\n",
      "#NoHayFuturoSin\n",
      "#UnAbusoEs\n"
     ]
    }
   ],
   "source": [
    "#The sentiment model is passed to the tweets and the corresponding sentiments and scores are stored in a list. Each list is the value of a dictionary with\n",
    "# the trend names as keys\n",
    "sentiments = {}\n",
    "for trend in trend_sentences.keys():\n",
    "    print(trend)\n",
    "    sentiment_analysis = spa_sentiment_classifier(trend_sentences_processed[trend])\n",
    "    sentiments[trend] = sentiment_analysis"
   ]
  },
  {
   "cell_type": "markdown",
   "metadata": {},
   "source": [
    "### Putting  tweets and sentiment labes and scores together"
   ]
  },
  {
   "cell_type": "code",
   "execution_count": 87,
   "metadata": {},
   "outputs": [
    {
     "data": {
      "text/plain": [
       "\"['RT @fwnln_sam: #harryalcampin es un sold out seguro les propongo un sueño 39 mil personas coreando cada canción y haciendo que Harry se ena…\""
      ]
     },
     "execution_count": 87,
     "metadata": {},
     "output_type": "execute_result"
    }
   ],
   "source": [
    "trend_sentences['#HarryAlCampin'][0][0] #Sample tweet"
   ]
  },
  {
   "cell_type": "code",
   "execution_count": 72,
   "metadata": {},
   "outputs": [],
   "source": [
    "# A dataframe is created with the sentiment analysis, added a column with the trend sentence and the trend to which the tweet corresponds \n",
    "# (on top of the sentiment label and scores calculated above)\n",
    "df_list = []\n",
    "for trend in trend_sentences.keys():\n",
    "    #sentiment_list.extend(sentiments[trend])\n",
    "    df = pd.DataFrame(sentiments[trend])\n",
    "    df['Trend'] = trend\n",
    "    df['Tweet'] = trend_sentences_flat[trend]\n",
    "    df_list.append(df)"
   ]
  },
  {
   "cell_type": "code",
   "execution_count": 75,
   "metadata": {},
   "outputs": [],
   "source": [
    "df_sentiments = pd.concat(df_list)\n",
    "df_sentiments = df_sentiments[['Trend', 'Tweet', 'label', 'score']]\n",
    "#df_sentiments.to_excel('Tweets_sentiments_Colombia.xlsx')"
   ]
  },
  {
   "cell_type": "code",
   "execution_count": 85,
   "metadata": {},
   "outputs": [],
   "source": [
    "# Generating a file out of each n-gram dataframe for each trend\n",
    "for trend in n_gram_dfs.keys():\n",
    "    n_gram_dfs[trend].to_excel('n_grams_'+ trend + '_Colombia.xlsx')"
   ]
  },
  {
   "cell_type": "code",
   "execution_count": null,
   "metadata": {},
   "outputs": [],
   "source": []
  },
  {
   "cell_type": "code",
   "execution_count": null,
   "metadata": {},
   "outputs": [],
   "source": []
  },
  {
   "cell_type": "markdown",
   "metadata": {},
   "source": [
    "### In Germany"
   ]
  },
  {
   "cell_type": "code",
   "execution_count": 113,
   "metadata": {},
   "outputs": [
    {
     "name": "stdout",
     "output_type": "stream",
     "text": [
      "(119, 2)\n"
     ]
    },
    {
     "data": {
      "text/html": [
       "<div>\n",
       "<style scoped>\n",
       "    .dataframe tbody tr th:only-of-type {\n",
       "        vertical-align: middle;\n",
       "    }\n",
       "\n",
       "    .dataframe tbody tr th {\n",
       "        vertical-align: top;\n",
       "    }\n",
       "\n",
       "    .dataframe thead th {\n",
       "        text-align: right;\n",
       "    }\n",
       "</style>\n",
       "<table border=\"1\" class=\"dataframe\">\n",
       "  <thead>\n",
       "    <tr style=\"text-align: right;\">\n",
       "      <th></th>\n",
       "      <th>trend</th>\n",
       "      <th>count</th>\n",
       "    </tr>\n",
       "  </thead>\n",
       "  <tbody>\n",
       "    <tr>\n",
       "      <th>144</th>\n",
       "      <td>Heizung</td>\n",
       "      <td>6</td>\n",
       "    </tr>\n",
       "    <tr>\n",
       "      <th>171</th>\n",
       "      <td>Kopftuch</td>\n",
       "      <td>6</td>\n",
       "    </tr>\n",
       "    <tr>\n",
       "      <th>79</th>\n",
       "      <td>Bürgergeld</td>\n",
       "      <td>5</td>\n",
       "    </tr>\n",
       "    <tr>\n",
       "      <th>233</th>\n",
       "      <td>Referendum</td>\n",
       "      <td>5</td>\n",
       "    </tr>\n",
       "    <tr>\n",
       "      <th>139</th>\n",
       "      <td>Guten Morgen ihr Lieben</td>\n",
       "      <td>5</td>\n",
       "    </tr>\n",
       "  </tbody>\n",
       "</table>\n",
       "</div>"
      ],
      "text/plain": [
       "                       trend  count\n",
       "144                  Heizung      6\n",
       "171                 Kopftuch      6\n",
       "79                Bürgergeld      5\n",
       "233               Referendum      5\n",
       "139  Guten Morgen ihr Lieben      5"
      ]
     },
     "execution_count": 113,
     "metadata": {},
     "output_type": "execute_result"
    }
   ],
   "source": [
    "#Relevant trends are those that appear twice of more i.e. not only in one single day across the timeline\n",
    "freq_trends_germany.head()\n",
    "relevant_trends_germany = freq_trends_germany.loc[freq_trends_germany['count']>1]\n",
    "print(relevant_trends_germany.shape)\n",
    "relevant_trends_germany.head()"
   ]
  },
  {
   "cell_type": "code",
   "execution_count": 114,
   "metadata": {},
   "outputs": [],
   "source": [
    "#relevant_trends_germany.to_excel('relevant_trends_germany.xlsx')"
   ]
  },
  {
   "cell_type": "markdown",
   "metadata": {},
   "source": [
    "### Content of the relevant trends in Germany"
   ]
  },
  {
   "cell_type": "code",
   "execution_count": 115,
   "metadata": {},
   "outputs": [],
   "source": [
    "trend_sentences = {} #Dictionary where the keys will be the relevant trends and the values will be the tweets corresponding to that trend\n",
    "trend_words = {} #Dictionary where the keys will be the relevant trends and the values will be the tweets corresponding to that trend\n",
    "trend_sentences_flat = {} #Dictionary where the keys will be the relevant trends and the values will be the tweets corresponding to that trend, stored in a flat list\n",
    "trend_words_flat = {} #Dictionary where the keys will be the relevant trends and the values will be the tweets corresponding to that trend, stored in a flat list\n",
    "\n",
    "for trend in relevant_trends_germany.trend.values:\n",
    "    trend_sentences[trend] = []\n",
    "    trend_words[trend] = []\n",
    "\n",
    "for file in germany_files:\n",
    "    trends_file_df = pd.read_excel('./Trends/'+file)\n",
    "    trends_in_file = trends_file_df.columns[1:]\n",
    "    for trend in trends_in_file:\n",
    "        if trend in relevant_trends_germany.trend.values:\n",
    "            sentences = trends_file_df.iloc[0][trend].split(\"\\', \\'\") # In each file, full tweets are stored in row 1\n",
    "            words = trends_file_df.iloc[3][trend].split(\"\\', \\'\") # In each file, the lists of words are stored in row 4\n",
    "            trend_sentences[trend].append(sentences)\n",
    "            trend_words[trend].append(words)\n",
    "\n",
    "for trend in trend_sentences.keys():\n",
    "    trend_sentences_flat[trend] = [item for sublist in trend_sentences[trend] for item in sublist]\n",
    "    trend_words_flat[trend] = [item for sublist in trend_words[trend] for item in sublist]"
   ]
  },
  {
   "cell_type": "code",
   "execution_count": 116,
   "metadata": {},
   "outputs": [
    {
     "data": {
      "text/plain": [
       "dict_keys(['Heizung', 'Kopftuch', 'Bürgergeld', 'Referendum', 'Guten Morgen ihr Lieben', 'Arielle', 'Russen', 'Panzer', 'Leyen', 'Löhne', 'Ungarn', 'Figma', '#OpIran', 'Klaus Ernst', 'schönen sonntag', 'Armenien', 'Iran', 'Schweden', 'Cosimo', 'Länderfinanzausgleich', '#MCIBVB', 'Eric', 'Start in den Tag', 'Wölfin', 'Querdenker', '#DankeRobert', 'Adobe', 'Reservisten', 'Oktoberfest', 'Dingos', 'Wochenstart', 'Start ins Wochenende', 'Montagmorgen', 'hobi', 'Asyl', 'Handwerk', 'Steuerbord', 'Glück mit dem Wetter', 'Übergewicht', 'Gina', 'Gentner', 'Gasumlage', 'Gast', 'The Queue', 'Herr Lindner', 'Twitch', 'Ventil', 'Waffen', 'Wehrle', 'Wochenbeginn', 'Dirndl', 'Deserteure', 'Führungsrolle', 'Katha', 'Herr Stegner', 'Herzlichen Glückwunsch', 'Polizist', 'Pandemie', 'Robin', 'Neuseeland', 'Nagelsmann', 'Most Favorite', 'Modeste', 'SBCs', 'Mislintat', 'Meyer', 'Sachsen', 'Meerjungfrau', 'Maske', \"Martha's Vineyard\", '#29EuroTicket', 'Least Favorite', 'Schönen Donnerstag', 'Lahm', 'Kälte', 'Krisengebiet', 'Schönen Samstag', 'Kobel', 'Sonnenaufgang', 'Kanonenfutter', 'Sprache', 'Sprachnachrichten', 'Start in die Woche', 'Zalazar', 'Ukraine', 'Precht', 'seulgi', '#Klimastreik', '#Kühnert', '#MahsaAmini', 'stellvertreterkrieg', 'Beleidigung', 'start ins wochenende', 'die produktion in deutschland', 'start in die woche', 'Aserbaidschan', '#Schweden', 'Biden', 'schönen freitag', 'Armenia', 'schönen donnerstag', 'Armee', 'schönen dienstag', '#Weltkindertag', '#dasperfektedinner', 'Zelt', 'meunier', 'bürgergeld', 'Backbord', '#iOS16', 'Blamage', '#EthereumMerge', 'Zimmermann', 'wochenstart', '#BVBS04', '#FirstDates', '#FridaysForFuture', 'Büro', 'wochenteiler'])"
      ]
     },
     "execution_count": 116,
     "metadata": {},
     "output_type": "execute_result"
    }
   ],
   "source": [
    "trend_sentences.keys()"
   ]
  },
  {
   "cell_type": "code",
   "execution_count": 42,
   "metadata": {},
   "outputs": [],
   "source": [
    "#NLP Preprocessing:\n",
    "# Diacritics and special characters are removed  (in the case of german, the Umlauts are also replaced)\n",
    "REPLACE_BY_SPACE_RE = re.compile('[/(){}\\[\\]\\|@,;]') #These characters will be replaced by a space\n",
    "BAD_SYMBOLS_RE = re.compile('[^0-9a-z ñ+_]') #These characters will be removed\n",
    "STOPWORDS_DE = set(stopwords.words('german'))\n",
    "STOPWORDS_DE = STOPWORDS_DE.union(STOPWORDS_ENG) #English and german stopwords are removed\n",
    "## Some commonly observed stopwords are also removed\n",
    "STOPWORDS_DE.add('http')\n",
    "STOPWORDS_DE.add('https')\n",
    "STOPWORDS_DE.add('tco')\n",
    "STEMMER_DE = SnowballStemmer('german')\n",
    "\n",
    "# For the ngrams and word clouds, all the preprocessed sentences and words are packed together in flat lists, to pass them to the models.\n",
    "#The flat lists are done by each trend using the trend's name as key in a dictionary.\n",
    "trend_sentences_processed = {}\n",
    "trend_words_processed = {}\n",
    "for trend in trend_sentences.keys():\n",
    "    text_preprocessed = [text_prepare(x) for x in trend_sentences_flat[trend]]\n",
    "    trend_sentences_processed[trend] = text_preprocessed\n",
    "\n",
    "for trend in trend_sentences.keys():\n",
    "    word_tokens = [word_tokenize(trend_sentences_processed[trend][i]) for i in range(len(trend_sentences_processed[trend]))]\n",
    "    word_tokens_flat = [item for sublist in word_tokens for item in sublist]\n",
    "    trend_words_processed[trend] = [w for w in word_tokens_flat if w.isalpha()]"
   ]
  },
  {
   "cell_type": "markdown",
   "metadata": {},
   "source": [
    "### N-grams"
   ]
  },
  {
   "cell_type": "code",
   "execution_count": 130,
   "metadata": {},
   "outputs": [],
   "source": [
    "n_gram_dfs = {}\n",
    "\n",
    "for trend in trend_sentences.keys():\n",
    "    try:\n",
    "        n_grams = get_n_grams_df(trend_sentences_processed[trend], 30, STOPWORDS_DE) #calling the get_n_grams_df function to retrieve the ngrams for each trend\n",
    "        n_gram_df = pd.concat([n_grams['unigrams'], n_grams['bigrams'], n_grams['trigrams']], axis=1) #putting the data together in a dataframe\n",
    "        n_gram_dfs[trend]=n_gram_df\n",
    "    except:\n",
    "        pass\n",
    "\n",
    "#n_gram_dfs.head()"
   ]
  },
  {
   "cell_type": "code",
   "execution_count": 131,
   "metadata": {},
   "outputs": [
    {
     "data": {
      "text/plain": [
       "dict_keys(['Heizung', 'Kopftuch', 'Bürgergeld', 'Referendum', 'Guten Morgen ihr Lieben', 'Arielle', 'Russen', 'Panzer', 'Leyen', 'Löhne', 'Ungarn', 'Figma', '#OpIran', 'Klaus Ernst', 'schönen sonntag', 'Armenien', 'Iran', 'Schweden', 'Cosimo', 'Länderfinanzausgleich', '#MCIBVB', 'Eric', 'Start in den Tag', 'Wölfin', 'Querdenker', '#DankeRobert', 'Adobe', 'Reservisten', 'Oktoberfest', 'Dingos', 'Wochenstart', 'Start ins Wochenende', 'Montagmorgen', 'hobi', 'Asyl', 'Handwerk', 'Steuerbord', 'Glück mit dem Wetter', 'Übergewicht', 'Gina', 'Gentner', 'Gasumlage', 'Gast', 'The Queue', 'Herr Lindner', 'Twitch', 'Ventil', 'Waffen', 'Wehrle', 'Wochenbeginn', 'Dirndl', 'Deserteure', 'Führungsrolle', 'Katha', 'Herr Stegner', 'Herzlichen Glückwunsch', 'Polizist', 'Pandemie', 'Robin', 'Neuseeland', 'Nagelsmann', 'Most Favorite', 'Modeste', 'SBCs', 'Mislintat', 'Meyer', 'Sachsen', 'Meerjungfrau', 'Maske', \"Martha's Vineyard\", '#29EuroTicket', 'Least Favorite', 'Schönen Donnerstag', 'Lahm', 'Kälte', 'Krisengebiet', 'Schönen Samstag', 'Kobel', 'Sonnenaufgang', 'Kanonenfutter', 'Sprache', 'Sprachnachrichten', 'Start in die Woche', 'Zalazar', 'Ukraine', 'Precht', 'seulgi', '#Klimastreik', '#Kühnert', '#MahsaAmini', 'stellvertreterkrieg', 'Beleidigung', 'start ins wochenende', 'die produktion in deutschland', 'start in die woche', 'Aserbaidschan', '#Schweden', 'Biden', 'schönen freitag', 'Armenia', 'schönen donnerstag', 'Armee', 'schönen dienstag', '#Weltkindertag', '#dasperfektedinner', 'Zelt', 'meunier', 'bürgergeld', 'Backbord', '#iOS16', 'Blamage', '#EthereumMerge', 'Zimmermann', 'wochenstart', '#BVBS04', '#FirstDates', '#FridaysForFuture', 'Büro', 'wochenteiler'])"
      ]
     },
     "execution_count": 131,
     "metadata": {},
     "output_type": "execute_result"
    }
   ],
   "source": [
    "trend_sentences_processed.keys()"
   ]
  },
  {
   "cell_type": "code",
   "execution_count": 132,
   "metadata": {},
   "outputs": [
    {
     "data": {
      "text/html": [
       "<div>\n",
       "<style scoped>\n",
       "    .dataframe tbody tr th:only-of-type {\n",
       "        vertical-align: middle;\n",
       "    }\n",
       "\n",
       "    .dataframe tbody tr th {\n",
       "        vertical-align: top;\n",
       "    }\n",
       "\n",
       "    .dataframe thead th {\n",
       "        text-align: right;\n",
       "    }\n",
       "</style>\n",
       "<table border=\"1\" class=\"dataframe\">\n",
       "  <thead>\n",
       "    <tr style=\"text-align: right;\">\n",
       "      <th></th>\n",
       "      <th>Unigram</th>\n",
       "      <th>Unigram_count</th>\n",
       "      <th>Bigram</th>\n",
       "      <th>Bigram_count</th>\n",
       "      <th>Trigram</th>\n",
       "      <th>Trigram_count</th>\n",
       "    </tr>\n",
       "  </thead>\n",
       "  <tbody>\n",
       "    <tr>\n",
       "      <th>0</th>\n",
       "      <td>arielle</td>\n",
       "      <td>583</td>\n",
       "      <td>mayorkingz youre</td>\n",
       "      <td>83</td>\n",
       "      <td>mayorkingz youre everything</td>\n",
       "      <td>83</td>\n",
       "    </tr>\n",
       "    <tr>\n",
       "      <th>1</th>\n",
       "      <td>mayorkingz</td>\n",
       "      <td>135</td>\n",
       "      <td>youre everything</td>\n",
       "      <td>83</td>\n",
       "      <td>youre everything amp</td>\n",
       "      <td>83</td>\n",
       "    </tr>\n",
       "    <tr>\n",
       "      <th>2</th>\n",
       "      <td>rt</td>\n",
       "      <td>126</td>\n",
       "      <td>everything amp</td>\n",
       "      <td>83</td>\n",
       "      <td>everything amp ever</td>\n",
       "      <td>83</td>\n",
       "    </tr>\n",
       "    <tr>\n",
       "      <th>3</th>\n",
       "      <td>amp</td>\n",
       "      <td>109</td>\n",
       "      <td>amp ever</td>\n",
       "      <td>83</td>\n",
       "      <td>amp ever wished</td>\n",
       "      <td>83</td>\n",
       "    </tr>\n",
       "    <tr>\n",
       "      <th>4</th>\n",
       "      <td>right</td>\n",
       "      <td>102</td>\n",
       "      <td>ever wished</td>\n",
       "      <td>83</td>\n",
       "      <td>ever wished came</td>\n",
       "      <td>83</td>\n",
       "    </tr>\n",
       "  </tbody>\n",
       "</table>\n",
       "</div>"
      ],
      "text/plain": [
       "      Unigram  Unigram_count            Bigram  Bigram_count  \\\n",
       "0     arielle            583  mayorkingz youre            83   \n",
       "1  mayorkingz            135  youre everything            83   \n",
       "2          rt            126    everything amp            83   \n",
       "3         amp            109          amp ever            83   \n",
       "4       right            102       ever wished            83   \n",
       "\n",
       "                       Trigram  Trigram_count  \n",
       "0  mayorkingz youre everything             83  \n",
       "1         youre everything amp             83  \n",
       "2          everything amp ever             83  \n",
       "3              amp ever wished             83  \n",
       "4             ever wished came             83  "
      ]
     },
     "execution_count": 132,
     "metadata": {},
     "output_type": "execute_result"
    }
   ],
   "source": [
    "n_gram_dfs['Arielle'].head()"
   ]
  },
  {
   "cell_type": "code",
   "execution_count": 139,
   "metadata": {},
   "outputs": [
    {
     "name": "stderr",
     "output_type": "stream",
     "text": [
      "C:\\Users\\VELASQ~1\\AppData\\Local\\Temp/ipykernel_11716/120345593.py:1: DeprecationWarning: The symbol module is deprecated and will be removed in future versions of Python\n",
      "  from symbol import except_clause\n"
     ]
    }
   ],
   "source": [
    "# Word clouds can also be generated, showing the relative frequency of words appearing for each trend in a visual way\n",
    "# With the size of the word in the word cloud representing it's frequeny relative to the toal amount of words in the corpus\n",
    "word_clouds = {}\n",
    "for trend in trend_sentences.keys():\n",
    "    try:\n",
    "        corpus = ' '.join(trend_words_processed[trend])\n",
    "        #Instantiate wordcloud object and use method to feed it our corpus\n",
    "        word_clouds[trend] = WordCloud(collocations=False).generate_from_text(corpus)\n",
    "    except:\n",
    "        pass"
   ]
  },
  {
   "cell_type": "code",
   "execution_count": 140,
   "metadata": {},
   "outputs": [
    {
     "data": {
      "image/png": "[encoded data removed]",
      "text/plain": [
       "<Figure size 432x288 with 1 Axes>"
      ]
     },
     "metadata": {
      "needs_background": "light"
     },
     "output_type": "display_data"
    }
   ],
   "source": [
    "#displaying the word cloud\n",
    "plt.imshow(word_clouds['Arielle'])\n",
    "plt.axis('off')\n",
    "plt.show()"
   ]
  },
  {
   "cell_type": "markdown",
   "metadata": {},
   "source": [
    "### Sentiment Analysis"
   ]
  },
  {
   "cell_type": "code",
   "execution_count": null,
   "metadata": {},
   "outputs": [],
   "source": [
    "#The sentiment analysis is used through the package \"Transformers\", which uses pretrained NLP models for several tasks. There are models available for several tasks and languages\n",
    "# One model is loaded for the spanish tweets (finiteautomata/beto-sentiment-analysis) and another for the english and german tweets (nlptown/bert-base-multilingual-uncased-sentiment)"
   ]
  },
  {
   "cell_type": "code",
   "execution_count": null,
   "metadata": {},
   "outputs": [],
   "source": [
    "de_sentiment_classifier = pipeline('sentiment-analysis',\n",
    "                           tokenizer = \"nlptown/bert-base-multilingual-uncased-sentiment\",\n",
    "                           model = \"nlptown/bert-base-multilingual-uncased-sentiment\")\n",
    "\n",
    "#The sentiment model is passed to the tweets and the corresponding sentiments and scores are stored in a list. Each list is the value of a dictionary with\n",
    "# the trend names as keys\n",
    "sentiments = {}\n",
    "for trend in trend_sentences.keys():\n",
    "    print(trend)\n",
    "    try:\n",
    "        sentiment_analysis = de_sentiment_classifier(trend_sentences_processed[trend])\n",
    "        sentiments[trend] = sentiment_analysis\n",
    "    except:\n",
    "        pass"
   ]
  },
  {
   "cell_type": "markdown",
   "metadata": {},
   "source": [
    "### Putting  tweets and sentiment labes and scores together"
   ]
  },
  {
   "cell_type": "code",
   "execution_count": 184,
   "metadata": {},
   "outputs": [
    {
     "data": {
      "text/plain": [
       "dict_keys(['Heizung', 'Kopftuch', 'Referendum', 'Guten Morgen ihr Lieben', 'Arielle', 'Russen', 'Panzer', 'Leyen', 'Löhne', 'Figma', '#OpIran', 'Klaus Ernst', 'schönen sonntag', 'Armenien', 'Iran', 'Schweden', 'Länderfinanzausgleich', '#MCIBVB', 'Eric', 'Start in den Tag', 'Wölfin', 'Querdenker', '#DankeRobert', 'Adobe', 'Reservisten', 'Oktoberfest', 'Dingos', 'Wochenstart', 'Start ins Wochenende', 'Montagmorgen', 'hobi', 'Asyl', 'Handwerk', 'Steuerbord', 'Glück mit dem Wetter', 'Übergewicht', 'Gina', 'Gentner', 'Gasumlage', 'The Queue', 'Herr Lindner', 'Twitch', 'Ventil', 'Wehrle', 'Wochenbeginn', 'Dirndl', 'Deserteure', 'Führungsrolle', 'Katha', 'Herr Stegner', 'Herzlichen Glückwunsch', 'Polizist', 'Robin', 'Neuseeland', 'Nagelsmann', 'Most Favorite', 'Modeste', 'SBCs', 'Mislintat', 'Meyer', 'Sachsen', 'Meerjungfrau', 'Maske', '#29EuroTicket', 'Least Favorite', 'Schönen Donnerstag', 'Lahm', 'Kälte', 'Krisengebiet', 'Schönen Samstag', 'Kobel', 'Sonnenaufgang', 'Kanonenfutter', 'Sprache', 'Sprachnachrichten', 'Start in die Woche', 'Zalazar', 'Ukraine', 'Precht', '#Klimastreik', '#Kühnert', '#MahsaAmini', 'stellvertreterkrieg', 'Beleidigung', 'start ins wochenende', 'die produktion in deutschland', 'start in die woche', '#Schweden', 'Biden', 'schönen freitag', 'Armenia', 'schönen donnerstag', 'Armee', 'schönen dienstag', '#Weltkindertag', '#dasperfektedinner', 'Zelt', 'meunier', 'bürgergeld', 'Backbord', '#iOS16', 'Blamage', '#EthereumMerge', 'Zimmermann', 'wochenstart', '#BVBS04', '#FirstDates', '#FridaysForFuture', 'Büro', 'wochenteiler'])"
      ]
     },
     "execution_count": 184,
     "metadata": {},
     "output_type": "execute_result"
    }
   ],
   "source": [
    "sentiments.keys()"
   ]
  },
  {
   "cell_type": "code",
   "execution_count": 172,
   "metadata": {},
   "outputs": [],
   "source": [
    "# A dataframe is created with the sentiment analysis, added a column with the trend sentence and the trend to which the tweet corresponds \n",
    "# (on top of the sentiment label and scores calculated above)\n",
    "df_list = []\n",
    "for trend in sentiments.keys():\n",
    "    #sentiment_list.extend(sentiments[trend])\n",
    "    df = pd.DataFrame(sentiments[trend])\n",
    "    df['Trend'] = trend\n",
    "    df['Tweet'] = trend_sentences_flat[trend]\n",
    "    df_list.append(df)"
   ]
  },
  {
   "cell_type": "code",
   "execution_count": 175,
   "metadata": {},
   "outputs": [],
   "source": [
    "df_sentiments = pd.concat(df_list)\n",
    "df_sentiments = df_sentiments[['Trend', 'Tweet', 'label', 'score']]"
   ]
  },
  {
   "cell_type": "code",
   "execution_count": 181,
   "metadata": {},
   "outputs": [
    {
     "data": {
      "text/plain": [
       "array(['POS', 'NEG', 'NEU'], dtype=object)"
      ]
     },
     "execution_count": 181,
     "metadata": {},
     "output_type": "execute_result"
    }
   ],
   "source": [
    "df_sentiments.label.unique()"
   ]
  },
  {
   "cell_type": "code",
   "execution_count": 180,
   "metadata": {},
   "outputs": [],
   "source": [
    "# The spanish model outputs three classes \"POS\", \"NEU\" and \"NEG\", whereas the multilingual one outputs 1 star up to 5 stars. The star output is translated into \"POS\", \"NEU\" and \"NEG\"\n",
    "# to maintain the consistency of the output and results.\n",
    "df_sentiments.loc[df_sentiments['label'].isin(['5 stars','4 stars']), 'label'] = 'POS'\n",
    "df_sentiments.loc[df_sentiments['label'].isin(['1 star','2 stars']), 'label'] = 'NEG'\n",
    "df_sentiments.loc[df_sentiments['label'].isin(['3 stars']), 'label'] = 'NEU'"
   ]
  },
  {
   "cell_type": "code",
   "execution_count": 183,
   "metadata": {},
   "outputs": [],
   "source": [
    "#df_sentiments.to_excel('Tweets_sentiments_Germany.xlsx')"
   ]
  },
  {
   "cell_type": "code",
   "execution_count": 167,
   "metadata": {},
   "outputs": [],
   "source": [
    "# Generating a file out of each n-gram dataframe for each trend\n",
    "for trend in n_gram_dfs.keys():\n",
    "    n_gram_dfs[trend].to_excel('n_grams_'+ trend + '_Germany.xlsx')"
   ]
  },
  {
   "cell_type": "code",
   "execution_count": null,
   "metadata": {},
   "outputs": [],
   "source": []
  },
  {
   "cell_type": "code",
   "execution_count": null,
   "metadata": {},
   "outputs": [],
   "source": []
  }
 ],
 "metadata": {
  "kernelspec": {
   "display_name": "tabpy_env",
   "language": "python",
   "name": "python3"
  },
  "language_info": {
   "codemirror_mode": {
    "name": "ipython",
    "version": 3
   },
   "file_extension": ".py",
   "mimetype": "text/x-python",
   "name": "python",
   "nbconvert_exporter": "python",
   "pygments_lexer": "ipython3",
   "version": "3.11.0"
  },
  "orig_nbformat": 4
 },
 "nbformat": 4,
 "nbformat_minor": 2
}
